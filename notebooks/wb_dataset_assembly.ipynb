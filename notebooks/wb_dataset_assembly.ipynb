{
 "cells": [
  {
   "cell_type": "code",
   "execution_count": null,
   "id": "noted-maria",
   "metadata": {},
   "outputs": [],
   "source": [
    "import glob\n",
    "import re\n",
    "import json\n",
    "from collections import Counter"
   ]
  },
  {
   "cell_type": "markdown",
   "id": "tested-struggle",
   "metadata": {},
   "source": [
    "## Read in and do basic cleaning"
   ]
  },
  {
   "cell_type": "code",
   "execution_count": null,
   "id": "opposite-ability",
   "metadata": {},
   "outputs": [],
   "source": [
    "all_data = []"
   ]
  },
  {
   "cell_type": "code",
   "execution_count": null,
   "id": "infrared-toddler",
   "metadata": {},
   "outputs": [],
   "source": [
    "def process_folder(folder_path):\n",
    "    all_text_files = glob.glob(folder_path)\n",
    "    file_names = [full_path[(full_path.rfind('/') + 1):] for full_path in all_text_files]\n",
    "    projects = list(set([file_name[:file_name.find(\"_\")] for file_name in file_names]))\n",
    "    return all_text_files, file_names, projects"
   ]
  },
  {
   "cell_type": "code",
   "execution_count": null,
   "id": "valuable-istanbul",
   "metadata": {},
   "outputs": [],
   "source": [
    "def clean_doc_text(doc_text):\n",
    "    doc_text = re.sub(\"\\u00b7\", \"\", doc_text)\n",
    "    doc_text = re.sub(\" +\", \" \", doc_text)\n",
    "    doc_text = re.sub(\"\\.+\", \"\\.\", doc_text)\n",
    "    return doc_text.strip()"
   ]
  },
  {
   "cell_type": "code",
   "execution_count": null,
   "id": "precious-awareness",
   "metadata": {},
   "outputs": [],
   "source": [
    "def process_and_append(all_text_files, document_type):\n",
    "    for full_path in all_text_files:\n",
    "        file_name = full_path[(full_path.rfind('/') + 1):]\n",
    "        data_entry = { \"project_id\": file_name[:file_name.find(\"_\")] }\n",
    "        with open(full_path, \"r\", encoding=\"ISO-8859-1\") as f:\n",
    "            try:\n",
    "                doc_text = f.read()\n",
    "                data_entry[\"document_text\"] = clean_doc_text(doc_text)\n",
    "                data_entry[\"document_type\"] = document_type\n",
    "            except:\n",
    "                print(\"Error on project: \", project_id, \" file: \", file_name)\n",
    "                raise\n",
    "\n",
    "        all_data.append(data_entry)"
   ]
  },
  {
   "cell_type": "code",
   "execution_count": null,
   "id": "described-nursing",
   "metadata": {},
   "outputs": [],
   "source": [
    "pad_text_files, file_names, pad_projects = process_folder(\"../data/text_data/pad_documents/*.txt\")"
   ]
  },
  {
   "cell_type": "code",
   "execution_count": null,
   "id": "turned-lodging",
   "metadata": {},
   "outputs": [],
   "source": [
    "process_and_append(pad_text_files, \"APPROVAL\")"
   ]
  },
  {
   "cell_type": "code",
   "execution_count": null,
   "id": "successful-clinic",
   "metadata": {},
   "outputs": [],
   "source": [
    "pad_entries = [entry for entry in all_data if entry[\"document_type\"] == \"APPROVAL\"]\n",
    "pad_entries[0]"
   ]
  },
  {
   "cell_type": "code",
   "execution_count": null,
   "id": "chronic-peninsula",
   "metadata": {},
   "outputs": [],
   "source": [
    "len(pad_entries)"
   ]
  },
  {
   "cell_type": "code",
   "execution_count": null,
   "id": "female-intermediate",
   "metadata": {},
   "outputs": [],
   "source": [
    "icr_text_files, icr_file_names, icr_projects = process_folder(\"../data/text_data/icr_documents/*.txt\")"
   ]
  },
  {
   "cell_type": "code",
   "execution_count": null,
   "id": "straight-specialist",
   "metadata": {},
   "outputs": [],
   "source": [
    "process_and_append(icr_text_files, \"REVIEW\")"
   ]
  },
  {
   "cell_type": "code",
   "execution_count": null,
   "id": "israeli-berry",
   "metadata": {},
   "outputs": [],
   "source": [
    "icr_entries = [entry for entry in all_data if entry[\"document_type\"] == \"REVIEW\"]\n",
    "icr_entries[0]"
   ]
  },
  {
   "cell_type": "code",
   "execution_count": null,
   "id": "boring-theology",
   "metadata": {},
   "outputs": [],
   "source": [
    "len(all_data)"
   ]
  },
  {
   "cell_type": "code",
   "execution_count": null,
   "id": "phantom-reminder",
   "metadata": {},
   "outputs": [],
   "source": [
    "file_project_ids = [entry[\"project_id\"] for entry in all_data]"
   ]
  },
  {
   "cell_type": "code",
   "execution_count": null,
   "id": "attached-going",
   "metadata": {},
   "outputs": [],
   "source": [
    "counter = Counter(file_project_ids)\n",
    "# proj_max = \n",
    "# print(\"\")\n",
    "# counter[proj_max]\n",
    "counter.most_common()"
   ]
  },
  {
   "cell_type": "markdown",
   "id": "narrow-kitty",
   "metadata": {},
   "source": [
    "## Write to consolidated file"
   ]
  },
  {
   "cell_type": "code",
   "execution_count": null,
   "id": "sexual-machine",
   "metadata": {},
   "outputs": [],
   "source": [
    "all_docs_file = \"../data/text_data/wb_project_documents.jsonl\""
   ]
  },
  {
   "cell_type": "code",
   "execution_count": null,
   "id": "smart-kentucky",
   "metadata": {},
   "outputs": [],
   "source": [
    "with open(all_docs_file, \"w\") as f:\n",
    "    for entry in all_data:\n",
    "        f.write(json.dumps(entry) + \"\\n\")"
   ]
  },
  {
   "cell_type": "code",
   "execution_count": null,
   "id": "golden-banner",
   "metadata": {},
   "outputs": [],
   "source": [
    "len(all_data)"
   ]
  },
  {
   "cell_type": "code",
   "execution_count": null,
   "id": "straight-smart",
   "metadata": {},
   "outputs": [],
   "source": [
    "length = sum(1 for line in open(all_docs_file))\n",
    "length"
   ]
  },
  {
   "cell_type": "markdown",
   "id": "upset-malaysia",
   "metadata": {},
   "source": [
    "## Check loads via HF Datasets"
   ]
  },
  {
   "cell_type": "code",
   "execution_count": null,
   "id": "treated-saturn",
   "metadata": {},
   "outputs": [],
   "source": [
    "import datasets"
   ]
  },
  {
   "cell_type": "code",
   "execution_count": null,
   "id": "norwegian-mexico",
   "metadata": {},
   "outputs": [],
   "source": [
    "datasets.set_caching_enabled(False)"
   ]
  },
  {
   "cell_type": "code",
   "execution_count": null,
   "id": "satellite-kruger",
   "metadata": {},
   "outputs": [],
   "source": [
    "ds = datasets.load_dataset(\"json\", data_files=\"../data/text_data/wb_project_documents.jsonl\")"
   ]
  },
  {
   "cell_type": "code",
   "execution_count": null,
   "id": "painful-masters",
   "metadata": {},
   "outputs": [],
   "source": [
    "ds"
   ]
  }
 ],
 "metadata": {
  "kernelspec": {
   "display_name": "causal",
   "language": "python",
   "name": "causal"
  },
  "language_info": {
   "codemirror_mode": {
    "name": "ipython",
    "version": 3
   },
   "file_extension": ".py",
   "mimetype": "text/x-python",
   "name": "python",
   "nbconvert_exporter": "python",
   "pygments_lexer": "ipython3",
   "version": "3.8.12"
  }
 },
 "nbformat": 4,
 "nbformat_minor": 5
}
