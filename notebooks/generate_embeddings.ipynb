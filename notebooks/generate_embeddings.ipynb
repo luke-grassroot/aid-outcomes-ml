{
 "cells": [
  {
   "cell_type": "code",
   "execution_count": 1,
   "id": "5a6ab419",
   "metadata": {},
   "outputs": [],
   "source": [
    "import pickle\n",
    "import pandas as pd\n",
    "from sentence_transformers import SentenceTransformer"
   ]
  },
  {
   "cell_type": "code",
   "execution_count": 2,
   "id": "e1aa717a",
   "metadata": {},
   "outputs": [],
   "source": [
    "model = SentenceTransformer('paraphrase-mpnet-base-v2')"
   ]
  },
  {
   "cell_type": "code",
   "execution_count": 3,
   "id": "9ea49fe7",
   "metadata": {},
   "outputs": [],
   "source": [
    "def load_prior_embeds():\n",
    "    with open(\"./data/project_text_embeddings.pkl\", \"rb\") as fin:\n",
    "        embeddings = pickle.load(fin)\n",
    "    \n",
    "    return embeddings"
   ]
  },
  {
   "cell_type": "code",
   "execution_count": 5,
   "id": "26a8d53e",
   "metadata": {},
   "outputs": [],
   "source": [
    "def save_embeds(embeddings):\n",
    "    with open(\"./data/project_text_embeddings.pkl\", \"wb\") as f_out:\n",
    "        pickle.dump(embeddings, f_out, protocol=pickle.HIGHEST_PROTOCOL)"
   ]
  },
  {
   "cell_type": "code",
   "execution_count": 6,
   "id": "f9e8a9b3",
   "metadata": {},
   "outputs": [],
   "source": [
    "proj = pd.read_csv('./data/all_wb_projects.csv')\n",
    "proj['numeric_id'] = proj.id.str[1:].astype(int)\n",
    "proj['name_plus_pdo'] = proj['project_name'] + ' ' + proj['pdo'].fillna('')\n",
    "proj = proj.sort_values(by=['numeric_id'])"
   ]
  },
  {
   "cell_type": "code",
   "execution_count": 7,
   "id": "51026e1c",
   "metadata": {},
   "outputs": [],
   "source": [
    "save_clean = False\n",
    "\n",
    "if save_clean:\n",
    "    proj.to_csv('clean_wb_proj_all.csv')"
   ]
  },
  {
   "cell_type": "code",
   "execution_count": 8,
   "id": "16ae6482",
   "metadata": {},
   "outputs": [
    {
     "data": {
      "text/html": [
       "<div>\n",
       "<style scoped>\n",
       "    .dataframe tbody tr th:only-of-type {\n",
       "        vertical-align: middle;\n",
       "    }\n",
       "\n",
       "    .dataframe tbody tr th {\n",
       "        vertical-align: top;\n",
       "    }\n",
       "\n",
       "    .dataframe thead th {\n",
       "        text-align: right;\n",
       "    }\n",
       "</style>\n",
       "<table border=\"1\" class=\"dataframe\">\n",
       "  <thead>\n",
       "    <tr style=\"text-align: right;\">\n",
       "      <th></th>\n",
       "      <th>id</th>\n",
       "      <th>regionname</th>\n",
       "      <th>countryname</th>\n",
       "      <th>projectstatusdisplay</th>\n",
       "      <th>project_name</th>\n",
       "      <th>pdo</th>\n",
       "      <th>impagency</th>\n",
       "      <th>cons_serv_reqd_ind</th>\n",
       "      <th>url</th>\n",
       "      <th>boardapprovaldate</th>\n",
       "      <th>...</th>\n",
       "      <th>lendinginstr</th>\n",
       "      <th>envassesmentcategorycode</th>\n",
       "      <th>esrc_ovrl_risk_rate</th>\n",
       "      <th>sector1</th>\n",
       "      <th>sector2</th>\n",
       "      <th>sector3</th>\n",
       "      <th>theme1</th>\n",
       "      <th>theme2</th>\n",
       "      <th>numeric_id</th>\n",
       "      <th>name_plus_pdo</th>\n",
       "    </tr>\n",
       "  </thead>\n",
       "  <tbody>\n",
       "    <tr>\n",
       "      <th>11626</th>\n",
       "      <td>P000001</td>\n",
       "      <td>Africa</td>\n",
       "      <td>Africa</td>\n",
       "      <td>Closed</td>\n",
       "      <td>West Africa Pilot Community-based Natural Reso...</td>\n",
       "      <td>NaN</td>\n",
       "      <td>NaN</td>\n",
       "      <td>NaN</td>\n",
       "      <td>http://projects.worldbank.org/P000001/west-afr...</td>\n",
       "      <td>1995-09-14T00:00:00Z</td>\n",
       "      <td>...</td>\n",
       "      <td>Specific Investment Loan</td>\n",
       "      <td>B</td>\n",
       "      <td>NaN</td>\n",
       "      <td>Sub-National Government</td>\n",
       "      <td>Social Protection</td>\n",
       "      <td>Other Agriculture, Fishing and Forestry</td>\n",
       "      <td>Rural services and infrastructure</td>\n",
       "      <td>Biodiversity</td>\n",
       "      <td>1</td>\n",
       "      <td>West Africa Pilot Community-based Natural Reso...</td>\n",
       "    </tr>\n",
       "    <tr>\n",
       "      <th>10945</th>\n",
       "      <td>P000003</td>\n",
       "      <td>Africa</td>\n",
       "      <td>Africa</td>\n",
       "      <td>Closed</td>\n",
       "      <td>REIMP(CEN.ENV.INFO)</td>\n",
       "      <td>NaN</td>\n",
       "      <td>NaN</td>\n",
       "      <td>NaN</td>\n",
       "      <td>http://projects.worldbank.org/P000003/reimpcen...</td>\n",
       "      <td>1997-12-18T00:00:00Z</td>\n",
       "      <td>...</td>\n",
       "      <td>Specific Investment Loan</td>\n",
       "      <td>C</td>\n",
       "      <td>NaN</td>\n",
       "      <td>Other Public Administration</td>\n",
       "      <td>Other Information and Communications Technologies</td>\n",
       "      <td>Social Protection</td>\n",
       "      <td>Land administration and management</td>\n",
       "      <td>Environmental policies and institutions</td>\n",
       "      <td>3</td>\n",
       "      <td>REIMP(CEN.ENV.INFO)</td>\n",
       "    </tr>\n",
       "    <tr>\n",
       "      <th>13154</th>\n",
       "      <td>P000010</td>\n",
       "      <td>Africa</td>\n",
       "      <td>Africa</td>\n",
       "      <td>Closed</td>\n",
       "      <td>Regional Development Project (03)</td>\n",
       "      <td>NaN</td>\n",
       "      <td>NaN</td>\n",
       "      <td>NaN</td>\n",
       "      <td>http://projects.worldbank.org/P000010/null?lan...</td>\n",
       "      <td>1990-02-01T00:00:00Z</td>\n",
       "      <td>...</td>\n",
       "      <td>Financial Intermediary Loan</td>\n",
       "      <td>B</td>\n",
       "      <td>NaN</td>\n",
       "      <td>Banking Institutions</td>\n",
       "      <td>Other Agriculture, Fishing and Forestry</td>\n",
       "      <td>Other Transportation</td>\n",
       "      <td>Environmental policies and institutions</td>\n",
       "      <td>Other financial and private sector development</td>\n",
       "      <td>10</td>\n",
       "      <td>Regional Development Project (03)</td>\n",
       "    </tr>\n",
       "    <tr>\n",
       "      <th>12588</th>\n",
       "      <td>P000017</td>\n",
       "      <td>Africa</td>\n",
       "      <td>Africa</td>\n",
       "      <td>Closed</td>\n",
       "      <td>Engineering and Technical Assistance Project</td>\n",
       "      <td>NaN</td>\n",
       "      <td>NaN</td>\n",
       "      <td>NaN</td>\n",
       "      <td>http://projects.worldbank.org/P000017/engineer...</td>\n",
       "      <td>1992-05-19T00:00:00Z</td>\n",
       "      <td>...</td>\n",
       "      <td>Technical Assistance Loan</td>\n",
       "      <td>C</td>\n",
       "      <td>NaN</td>\n",
       "      <td>Power</td>\n",
       "      <td>NaN</td>\n",
       "      <td>NaN</td>\n",
       "      <td>Legal institutions for a market economy</td>\n",
       "      <td>Regional integration</td>\n",
       "      <td>17</td>\n",
       "      <td>Engineering and Technical Assistance Project</td>\n",
       "    </tr>\n",
       "    <tr>\n",
       "      <th>18015</th>\n",
       "      <td>P000019</td>\n",
       "      <td>Africa</td>\n",
       "      <td>Africa</td>\n",
       "      <td>Dropped</td>\n",
       "      <td>UEMOA Regional Financial Sector Project</td>\n",
       "      <td>NaN</td>\n",
       "      <td>NaN</td>\n",
       "      <td>NaN</td>\n",
       "      <td>http://projects.worldbank.org/P000019/null?lan...</td>\n",
       "      <td>NaN</td>\n",
       "      <td>...</td>\n",
       "      <td>Specific Investment Loan</td>\n",
       "      <td>C</td>\n",
       "      <td>NaN</td>\n",
       "      <td>NaN</td>\n",
       "      <td>NaN</td>\n",
       "      <td>NaN</td>\n",
       "      <td>NaN</td>\n",
       "      <td>NaN</td>\n",
       "      <td>19</td>\n",
       "      <td>UEMOA Regional Financial Sector Project</td>\n",
       "    </tr>\n",
       "  </tbody>\n",
       "</table>\n",
       "<p>5 rows × 28 columns</p>\n",
       "</div>"
      ],
      "text/plain": [
       "            id regionname countryname projectstatusdisplay  \\\n",
       "11626  P000001     Africa      Africa               Closed   \n",
       "10945  P000003     Africa      Africa               Closed   \n",
       "13154  P000010     Africa      Africa               Closed   \n",
       "12588  P000017     Africa      Africa               Closed   \n",
       "18015  P000019     Africa      Africa              Dropped   \n",
       "\n",
       "                                            project_name  pdo impagency  \\\n",
       "11626  West Africa Pilot Community-based Natural Reso...  NaN       NaN   \n",
       "10945                                REIMP(CEN.ENV.INFO)  NaN       NaN   \n",
       "13154                  Regional Development Project (03)  NaN       NaN   \n",
       "12588       Engineering and Technical Assistance Project  NaN       NaN   \n",
       "18015            UEMOA Regional Financial Sector Project  NaN       NaN   \n",
       "\n",
       "      cons_serv_reqd_ind                                                url  \\\n",
       "11626                NaN  http://projects.worldbank.org/P000001/west-afr...   \n",
       "10945                NaN  http://projects.worldbank.org/P000003/reimpcen...   \n",
       "13154                NaN  http://projects.worldbank.org/P000010/null?lan...   \n",
       "12588                NaN  http://projects.worldbank.org/P000017/engineer...   \n",
       "18015                NaN  http://projects.worldbank.org/P000019/null?lan...   \n",
       "\n",
       "          boardapprovaldate  ...                 lendinginstr  \\\n",
       "11626  1995-09-14T00:00:00Z  ...     Specific Investment Loan   \n",
       "10945  1997-12-18T00:00:00Z  ...     Specific Investment Loan   \n",
       "13154  1990-02-01T00:00:00Z  ...  Financial Intermediary Loan   \n",
       "12588  1992-05-19T00:00:00Z  ...    Technical Assistance Loan   \n",
       "18015                   NaN  ...     Specific Investment Loan   \n",
       "\n",
       "      envassesmentcategorycode  esrc_ovrl_risk_rate  \\\n",
       "11626                        B                  NaN   \n",
       "10945                        C                  NaN   \n",
       "13154                        B                  NaN   \n",
       "12588                        C                  NaN   \n",
       "18015                        C                  NaN   \n",
       "\n",
       "                           sector1  \\\n",
       "11626      Sub-National Government   \n",
       "10945  Other Public Administration   \n",
       "13154         Banking Institutions   \n",
       "12588                        Power   \n",
       "18015                          NaN   \n",
       "\n",
       "                                                 sector2  \\\n",
       "11626                                  Social Protection   \n",
       "10945  Other Information and Communications Technologies   \n",
       "13154            Other Agriculture, Fishing and Forestry   \n",
       "12588                                                NaN   \n",
       "18015                                                NaN   \n",
       "\n",
       "                                       sector3  \\\n",
       "11626  Other Agriculture, Fishing and Forestry   \n",
       "10945                        Social Protection   \n",
       "13154                     Other Transportation   \n",
       "12588                                      NaN   \n",
       "18015                                      NaN   \n",
       "\n",
       "                                        theme1  \\\n",
       "11626        Rural services and infrastructure   \n",
       "10945       Land administration and management   \n",
       "13154  Environmental policies and institutions   \n",
       "12588  Legal institutions for a market economy   \n",
       "18015                                      NaN   \n",
       "\n",
       "                                               theme2 numeric_id  \\\n",
       "11626                                    Biodiversity          1   \n",
       "10945         Environmental policies and institutions          3   \n",
       "13154  Other financial and private sector development         10   \n",
       "12588                            Regional integration         17   \n",
       "18015                                             NaN         19   \n",
       "\n",
       "                                           name_plus_pdo  \n",
       "11626  West Africa Pilot Community-based Natural Reso...  \n",
       "10945                               REIMP(CEN.ENV.INFO)   \n",
       "13154                 Regional Development Project (03)   \n",
       "12588      Engineering and Technical Assistance Project   \n",
       "18015           UEMOA Regional Financial Sector Project   \n",
       "\n",
       "[5 rows x 28 columns]"
      ]
     },
     "execution_count": 8,
     "metadata": {},
     "output_type": "execute_result"
    }
   ],
   "source": [
    "proj.head()"
   ]
  },
  {
   "cell_type": "code",
   "execution_count": 9,
   "id": "d14c8ffd",
   "metadata": {},
   "outputs": [],
   "source": [
    "restore_embeddings = True\n",
    "\n",
    "if restore_embeddings:\n",
    "    embeddings = load_prior_embeds()\n",
    "else:\n",
    "    project_ids = proj.id.to_numpy()\n",
    "    title_plus_pdo = proj.name_plus_pdo.to_numpy()\n",
    "    embeddings = dict(project_ids=project_ids, title_plus_pdo_text=sentences_to_encode)"
   ]
  },
  {
   "cell_type": "code",
   "execution_count": 19,
   "id": "5f7e11d4",
   "metadata": {},
   "outputs": [],
   "source": [
    "regen_embeddings = False\n",
    "\n",
    "if regen_embeddings:\n",
    "    encoded_sentences = model.encode(title_plus_pdo, show_progress_bar=True)\n",
    "    embeddings['title_plus_pdo_embed'] = encoded_sentences\n",
    "    save_embeds(embeddings)"
   ]
  },
  {
   "cell_type": "code",
   "execution_count": 18,
   "id": "fd1c32ff",
   "metadata": {},
   "outputs": [
    {
     "data": {
      "text/plain": [
       "dict_keys(['project_ids', 'title_plus_pdo_text', 'title_plus_pdo_embed'])"
      ]
     },
     "execution_count": 18,
     "metadata": {},
     "output_type": "execute_result"
    }
   ],
   "source": [
    "embeddings.keys()"
   ]
  },
  {
   "cell_type": "code",
   "execution_count": 26,
   "id": "88bacb95",
   "metadata": {},
   "outputs": [],
   "source": [
    "ind_df = pd.read_csv('./data/pdo.csv') # called \"pdo\" but actually has the DLIs"
   ]
  },
  {
   "cell_type": "code",
   "execution_count": 27,
   "id": "3ee4a238",
   "metadata": {},
   "outputs": [
    {
     "data": {
      "text/html": [
       "<div>\n",
       "<style scoped>\n",
       "    .dataframe tbody tr th:only-of-type {\n",
       "        vertical-align: middle;\n",
       "    }\n",
       "\n",
       "    .dataframe tbody tr th {\n",
       "        vertical-align: top;\n",
       "    }\n",
       "\n",
       "    .dataframe thead th {\n",
       "        text-align: right;\n",
       "    }\n",
       "</style>\n",
       "<table border=\"1\" class=\"dataframe\">\n",
       "  <thead>\n",
       "    <tr style=\"text-align: right;\">\n",
       "      <th></th>\n",
       "      <th>proj_id</th>\n",
       "      <th>ind_code</th>\n",
       "      <th>ind_name</th>\n",
       "      <th>ind_uom_id</th>\n",
       "      <th>uom_name</th>\n",
       "      <th>baseline_date</th>\n",
       "      <th>baseline_val_text</th>\n",
       "      <th>progress_date</th>\n",
       "      <th>progress_val_text</th>\n",
       "      <th>tgt_date</th>\n",
       "      <th>...</th>\n",
       "      <th>proj_ind_usage_type_code</th>\n",
       "      <th>proj_short_name</th>\n",
       "      <th>proj_stat_name</th>\n",
       "      <th>apprvl_fy</th>\n",
       "      <th>est_cls_fy</th>\n",
       "      <th>lndng_instr_type_name</th>\n",
       "      <th>cntry_code</th>\n",
       "      <th>cntry_short_name</th>\n",
       "      <th>rgn_name</th>\n",
       "      <th>rgn_code</th>\n",
       "    </tr>\n",
       "  </thead>\n",
       "  <tbody>\n",
       "    <tr>\n",
       "      <th>0</th>\n",
       "      <td>P000216</td>\n",
       "      <td>IND0028585</td>\n",
       "      <td>Number of scholarships for medical studies in ...</td>\n",
       "      <td>UOM0000004</td>\n",
       "      <td>NaN</td>\n",
       "      <td>1996-02-09</td>\n",
       "      <td>47</td>\n",
       "      <td>2005-10-21</td>\n",
       "      <td>40</td>\n",
       "      <td>2005-12-31</td>\n",
       "      <td>...</td>\n",
       "      <td>CI</td>\n",
       "      <td>BI Health &amp; Population II</td>\n",
       "      <td>Closed</td>\n",
       "      <td>1995</td>\n",
       "      <td>2009</td>\n",
       "      <td>IPF</td>\n",
       "      <td>BI</td>\n",
       "      <td>Burundi</td>\n",
       "      <td>Africa East</td>\n",
       "      <td>AFE</td>\n",
       "    </tr>\n",
       "    <tr>\n",
       "      <th>1</th>\n",
       "      <td>P000216</td>\n",
       "      <td>IND0028586</td>\n",
       "      <td>Number of hospitals with functioning managemen...</td>\n",
       "      <td>UOM0000004</td>\n",
       "      <td>NaN</td>\n",
       "      <td>1996-02-09</td>\n",
       "      <td>0</td>\n",
       "      <td>2005-10-21</td>\n",
       "      <td>11</td>\n",
       "      <td>2005-12-31</td>\n",
       "      <td>...</td>\n",
       "      <td>CI</td>\n",
       "      <td>BI Health &amp; Population II</td>\n",
       "      <td>Closed</td>\n",
       "      <td>1995</td>\n",
       "      <td>2009</td>\n",
       "      <td>IPF</td>\n",
       "      <td>BI</td>\n",
       "      <td>Burundi</td>\n",
       "      <td>Africa East</td>\n",
       "      <td>AFE</td>\n",
       "    </tr>\n",
       "    <tr>\n",
       "      <th>2</th>\n",
       "      <td>P000216</td>\n",
       "      <td>IND0028584</td>\n",
       "      <td>% children receiving polio vaccination.</td>\n",
       "      <td>UOM0000004</td>\n",
       "      <td>NaN</td>\n",
       "      <td>1996-02-09</td>\n",
       "      <td>73%</td>\n",
       "      <td>2005-10-21</td>\n",
       "      <td>76%</td>\n",
       "      <td>2005-12-31</td>\n",
       "      <td>...</td>\n",
       "      <td>CI</td>\n",
       "      <td>BI Health &amp; Population II</td>\n",
       "      <td>Closed</td>\n",
       "      <td>1995</td>\n",
       "      <td>2009</td>\n",
       "      <td>IPF</td>\n",
       "      <td>BI</td>\n",
       "      <td>Burundi</td>\n",
       "      <td>Africa East</td>\n",
       "      <td>AFE</td>\n",
       "    </tr>\n",
       "    <tr>\n",
       "      <th>3</th>\n",
       "      <td>P000306</td>\n",
       "      <td>IN00665008</td>\n",
       "      <td>Access to safe water in urban cities covered b...</td>\n",
       "      <td>UOM0000004</td>\n",
       "      <td>NaN</td>\n",
       "      <td>2001-03-20</td>\n",
       "      <td>Level of access to piped water in 1994: 57% of t</td>\n",
       "      <td>2007-12-10</td>\n",
       "      <td>74% of the urban population have access to piped</td>\n",
       "      <td>2007-12-31</td>\n",
       "      <td>...</td>\n",
       "      <td>CI</td>\n",
       "      <td>BF-Ouaga Water Suply (FY01)</td>\n",
       "      <td>Closed</td>\n",
       "      <td>2001</td>\n",
       "      <td>2008</td>\n",
       "      <td>IPF</td>\n",
       "      <td>BF</td>\n",
       "      <td>Burkina Faso</td>\n",
       "      <td>Africa West</td>\n",
       "      <td>AFW</td>\n",
       "    </tr>\n",
       "    <tr>\n",
       "      <th>4</th>\n",
       "      <td>P000306</td>\n",
       "      <td>IN00665006</td>\n",
       "      <td>Population connected to the water distribution...</td>\n",
       "      <td>UOM0000004</td>\n",
       "      <td>NaN</td>\n",
       "      <td>2001-03-20</td>\n",
       "      <td>300,000 inhabitants</td>\n",
       "      <td>2007-12-10</td>\n",
       "      <td>1,042,000 inhabitants have direct access to wate</td>\n",
       "      <td>2007-12-31</td>\n",
       "      <td>...</td>\n",
       "      <td>CI</td>\n",
       "      <td>BF-Ouaga Water Suply (FY01)</td>\n",
       "      <td>Closed</td>\n",
       "      <td>2001</td>\n",
       "      <td>2008</td>\n",
       "      <td>IPF</td>\n",
       "      <td>BF</td>\n",
       "      <td>Burkina Faso</td>\n",
       "      <td>Africa West</td>\n",
       "      <td>AFW</td>\n",
       "    </tr>\n",
       "  </tbody>\n",
       "</table>\n",
       "<p>5 rows × 21 columns</p>\n",
       "</div>"
      ],
      "text/plain": [
       "   proj_id    ind_code                                           ind_name  \\\n",
       "0  P000216  IND0028585  Number of scholarships for medical studies in ...   \n",
       "1  P000216  IND0028586  Number of hospitals with functioning managemen...   \n",
       "2  P000216  IND0028584            % children receiving polio vaccination.   \n",
       "3  P000306  IN00665008  Access to safe water in urban cities covered b...   \n",
       "4  P000306  IN00665006  Population connected to the water distribution...   \n",
       "\n",
       "   ind_uom_id uom_name baseline_date  \\\n",
       "0  UOM0000004      NaN    1996-02-09   \n",
       "1  UOM0000004      NaN    1996-02-09   \n",
       "2  UOM0000004      NaN    1996-02-09   \n",
       "3  UOM0000004      NaN    2001-03-20   \n",
       "4  UOM0000004      NaN    2001-03-20   \n",
       "\n",
       "                                  baseline_val_text progress_date  \\\n",
       "0                                                47    2005-10-21   \n",
       "1                                                 0    2005-10-21   \n",
       "2                                               73%    2005-10-21   \n",
       "3  Level of access to piped water in 1994: 57% of t    2007-12-10   \n",
       "4                               300,000 inhabitants    2007-12-10   \n",
       "\n",
       "                                  progress_val_text    tgt_date  ...  \\\n",
       "0                                                40  2005-12-31  ...   \n",
       "1                                                11  2005-12-31  ...   \n",
       "2                                               76%  2005-12-31  ...   \n",
       "3  74% of the urban population have access to piped  2007-12-31  ...   \n",
       "4  1,042,000 inhabitants have direct access to wate  2007-12-31  ...   \n",
       "\n",
       "  proj_ind_usage_type_code              proj_short_name proj_stat_name  \\\n",
       "0                       CI    BI Health & Population II         Closed   \n",
       "1                       CI    BI Health & Population II         Closed   \n",
       "2                       CI    BI Health & Population II         Closed   \n",
       "3                       CI  BF-Ouaga Water Suply (FY01)         Closed   \n",
       "4                       CI  BF-Ouaga Water Suply (FY01)         Closed   \n",
       "\n",
       "  apprvl_fy  est_cls_fy  lndng_instr_type_name cntry_code cntry_short_name  \\\n",
       "0      1995        2009                    IPF         BI          Burundi   \n",
       "1      1995        2009                    IPF         BI          Burundi   \n",
       "2      1995        2009                    IPF         BI          Burundi   \n",
       "3      2001        2008                    IPF         BF     Burkina Faso   \n",
       "4      2001        2008                    IPF         BF     Burkina Faso   \n",
       "\n",
       "      rgn_name rgn_code  \n",
       "0  Africa East      AFE  \n",
       "1  Africa East      AFE  \n",
       "2  Africa East      AFE  \n",
       "3  Africa West      AFW  \n",
       "4  Africa West      AFW  \n",
       "\n",
       "[5 rows x 21 columns]"
      ]
     },
     "execution_count": 27,
     "metadata": {},
     "output_type": "execute_result"
    }
   ],
   "source": [
    "ind_df.head()"
   ]
  },
  {
   "cell_type": "code",
   "execution_count": 28,
   "id": "ca1d6843",
   "metadata": {},
   "outputs": [
    {
     "data": {
      "text/plain": [
       "Index(['proj_id', 'ind_code', 'ind_name', 'ind_uom_id', 'uom_name',\n",
       "       'baseline_date', 'baseline_val_text', 'progress_date',\n",
       "       'progress_val_text', 'tgt_date', 'tgt_val_text',\n",
       "       'proj_ind_usage_type_code', 'proj_short_name', 'proj_stat_name',\n",
       "       'apprvl_fy', 'est_cls_fy', 'lndng_instr_type_name', 'cntry_code',\n",
       "       'cntry_short_name', 'rgn_name', 'rgn_code'],\n",
       "      dtype='object')"
      ]
     },
     "execution_count": 28,
     "metadata": {},
     "output_type": "execute_result"
    }
   ],
   "source": [
    "ind_df.columns"
   ]
  },
  {
   "cell_type": "code",
   "execution_count": 29,
   "id": "87c5297d",
   "metadata": {},
   "outputs": [
    {
     "data": {
      "text/plain": [
       "14643"
      ]
     },
     "execution_count": 29,
     "metadata": {},
     "output_type": "execute_result"
    }
   ],
   "source": [
    "ind_df.ind_code.nunique() # okay so basically no replication"
   ]
  },
  {
   "cell_type": "code",
   "execution_count": 30,
   "id": "bfd118c2",
   "metadata": {},
   "outputs": [
    {
     "data": {
      "text/plain": [
       "14659"
      ]
     },
     "execution_count": 30,
     "metadata": {},
     "output_type": "execute_result"
    }
   ],
   "source": [
    "len(ind_df)"
   ]
  },
  {
   "cell_type": "code",
   "execution_count": 31,
   "id": "8fa00bf7",
   "metadata": {},
   "outputs": [],
   "source": [
    "ind_df = ind_df[[\"proj_id\", \"ind_name\", \"uom_name\", \"baseline_val_text\", \"tgt_val_text\", \"proj_short_name\"]]"
   ]
  },
  {
   "cell_type": "code",
   "execution_count": 32,
   "id": "4d28cb2f",
   "metadata": {},
   "outputs": [],
   "source": [
    "ind_df[\"uom_name\"] = ind_df[\"uom_name\"].fillna(\"\")"
   ]
  },
  {
   "cell_type": "code",
   "execution_count": 33,
   "id": "dc9ee160",
   "metadata": {},
   "outputs": [
    {
     "data": {
      "text/html": [
       "<div>\n",
       "<style scoped>\n",
       "    .dataframe tbody tr th:only-of-type {\n",
       "        vertical-align: middle;\n",
       "    }\n",
       "\n",
       "    .dataframe tbody tr th {\n",
       "        vertical-align: top;\n",
       "    }\n",
       "\n",
       "    .dataframe thead th {\n",
       "        text-align: right;\n",
       "    }\n",
       "</style>\n",
       "<table border=\"1\" class=\"dataframe\">\n",
       "  <thead>\n",
       "    <tr style=\"text-align: right;\">\n",
       "      <th></th>\n",
       "      <th>proj_id</th>\n",
       "      <th>ind_name</th>\n",
       "      <th>uom_name</th>\n",
       "      <th>baseline_val_text</th>\n",
       "      <th>tgt_val_text</th>\n",
       "      <th>proj_short_name</th>\n",
       "    </tr>\n",
       "  </thead>\n",
       "  <tbody>\n",
       "    <tr>\n",
       "      <th>0</th>\n",
       "      <td>P000216</td>\n",
       "      <td>Number of scholarships for medical studies in ...</td>\n",
       "      <td></td>\n",
       "      <td>47</td>\n",
       "      <td>60</td>\n",
       "      <td>BI Health &amp; Population II</td>\n",
       "    </tr>\n",
       "    <tr>\n",
       "      <th>1</th>\n",
       "      <td>P000216</td>\n",
       "      <td>Number of hospitals with functioning managemen...</td>\n",
       "      <td></td>\n",
       "      <td>0</td>\n",
       "      <td>11</td>\n",
       "      <td>BI Health &amp; Population II</td>\n",
       "    </tr>\n",
       "    <tr>\n",
       "      <th>2</th>\n",
       "      <td>P000216</td>\n",
       "      <td>% children receiving polio vaccination.</td>\n",
       "      <td></td>\n",
       "      <td>73%</td>\n",
       "      <td>85%</td>\n",
       "      <td>BI Health &amp; Population II</td>\n",
       "    </tr>\n",
       "    <tr>\n",
       "      <th>3</th>\n",
       "      <td>P000306</td>\n",
       "      <td>Access to safe water in urban cities covered b...</td>\n",
       "      <td></td>\n",
       "      <td>Level of access to piped water in 1994: 57% of t</td>\n",
       "      <td>75% of the urban population having access to to</td>\n",
       "      <td>BF-Ouaga Water Suply (FY01)</td>\n",
       "    </tr>\n",
       "    <tr>\n",
       "      <th>4</th>\n",
       "      <td>P000306</td>\n",
       "      <td>Population connected to the water distribution...</td>\n",
       "      <td></td>\n",
       "      <td>300,000 inhabitants</td>\n",
       "      <td>800,000 inhabitants.</td>\n",
       "      <td>BF-Ouaga Water Suply (FY01)</td>\n",
       "    </tr>\n",
       "  </tbody>\n",
       "</table>\n",
       "</div>"
      ],
      "text/plain": [
       "   proj_id                                           ind_name uom_name  \\\n",
       "0  P000216  Number of scholarships for medical studies in ...            \n",
       "1  P000216  Number of hospitals with functioning managemen...            \n",
       "2  P000216            % children receiving polio vaccination.            \n",
       "3  P000306  Access to safe water in urban cities covered b...            \n",
       "4  P000306  Population connected to the water distribution...            \n",
       "\n",
       "                                  baseline_val_text  \\\n",
       "0                                                47   \n",
       "1                                                 0   \n",
       "2                                               73%   \n",
       "3  Level of access to piped water in 1994: 57% of t   \n",
       "4                               300,000 inhabitants   \n",
       "\n",
       "                                       tgt_val_text  \\\n",
       "0                                                60   \n",
       "1                                                11   \n",
       "2                                               85%   \n",
       "3  75% of the urban population having access to to    \n",
       "4                              800,000 inhabitants.   \n",
       "\n",
       "               proj_short_name  \n",
       "0    BI Health & Population II  \n",
       "1    BI Health & Population II  \n",
       "2    BI Health & Population II  \n",
       "3  BF-Ouaga Water Suply (FY01)  \n",
       "4  BF-Ouaga Water Suply (FY01)  "
      ]
     },
     "execution_count": 33,
     "metadata": {},
     "output_type": "execute_result"
    }
   ],
   "source": [
    "ind_df.head()"
   ]
  },
  {
   "cell_type": "code",
   "execution_count": 34,
   "id": "5d6ef228",
   "metadata": {},
   "outputs": [
    {
     "data": {
      "text/plain": [
       "                5772\n",
       "Number          3978\n",
       "Percentage      3624\n",
       "Yes/No           344\n",
       "Amount(USD)      194\n",
       "Hectare(Ha)      183\n",
       "Kilometers       152\n",
       "Metric ton       140\n",
       "Days              79\n",
       "Tones/year        74\n",
       "Megawatt          66\n",
       "Hours             52\n",
       "Microgram/m3       1\n",
       "Name: uom_name, dtype: int64"
      ]
     },
     "execution_count": 34,
     "metadata": {},
     "output_type": "execute_result"
    }
   ],
   "source": [
    "ind_df.uom_name.value_counts()"
   ]
  },
  {
   "cell_type": "code",
   "execution_count": 39,
   "id": "d09f27d0",
   "metadata": {},
   "outputs": [],
   "source": [
    "ind_df[\"dli_comb_text\"] = ind_df.apply(\n",
    "    lambda row: f\"IND: {row['ind_name']}, BASE: {row['baseline_val_text']} {row['uom_name']}, TGT: {row['tgt_val_text']} {row['uom_name']}\", \n",
    "axis=1)"
   ]
  },
  {
   "cell_type": "code",
   "execution_count": 45,
   "id": "3f4d3e57",
   "metadata": {},
   "outputs": [],
   "source": [
    "ind_df['ind_name_length'] = ind_df['ind_name'].str.split().str.len()"
   ]
  },
  {
   "cell_type": "code",
   "execution_count": 46,
   "id": "834220be",
   "metadata": {},
   "outputs": [
    {
     "data": {
      "text/html": [
       "<div>\n",
       "<style scoped>\n",
       "    .dataframe tbody tr th:only-of-type {\n",
       "        vertical-align: middle;\n",
       "    }\n",
       "\n",
       "    .dataframe tbody tr th {\n",
       "        vertical-align: top;\n",
       "    }\n",
       "\n",
       "    .dataframe thead th {\n",
       "        text-align: right;\n",
       "    }\n",
       "</style>\n",
       "<table border=\"1\" class=\"dataframe\">\n",
       "  <thead>\n",
       "    <tr style=\"text-align: right;\">\n",
       "      <th></th>\n",
       "      <th>proj_id</th>\n",
       "      <th>ind_name</th>\n",
       "      <th>uom_name</th>\n",
       "      <th>baseline_val_text</th>\n",
       "      <th>tgt_val_text</th>\n",
       "      <th>proj_short_name</th>\n",
       "      <th>dli_comb_text</th>\n",
       "      <th>ind_name_length</th>\n",
       "    </tr>\n",
       "  </thead>\n",
       "  <tbody>\n",
       "    <tr>\n",
       "      <th>0</th>\n",
       "      <td>P000216</td>\n",
       "      <td>Number of scholarships for medical studies in ...</td>\n",
       "      <td></td>\n",
       "      <td>47</td>\n",
       "      <td>60</td>\n",
       "      <td>BI Health &amp; Population II</td>\n",
       "      <td>IND: Number of scholarships for medical studie...</td>\n",
       "      <td>16.0</td>\n",
       "    </tr>\n",
       "    <tr>\n",
       "      <th>1</th>\n",
       "      <td>P000216</td>\n",
       "      <td>Number of hospitals with functioning managemen...</td>\n",
       "      <td></td>\n",
       "      <td>0</td>\n",
       "      <td>11</td>\n",
       "      <td>BI Health &amp; Population II</td>\n",
       "      <td>IND: Number of hospitals with functioning mana...</td>\n",
       "      <td>9.0</td>\n",
       "    </tr>\n",
       "    <tr>\n",
       "      <th>2</th>\n",
       "      <td>P000216</td>\n",
       "      <td>% children receiving polio vaccination.</td>\n",
       "      <td></td>\n",
       "      <td>73%</td>\n",
       "      <td>85%</td>\n",
       "      <td>BI Health &amp; Population II</td>\n",
       "      <td>IND: % children receiving polio vaccination., ...</td>\n",
       "      <td>5.0</td>\n",
       "    </tr>\n",
       "    <tr>\n",
       "      <th>3</th>\n",
       "      <td>P000306</td>\n",
       "      <td>Access to safe water in urban cities covered b...</td>\n",
       "      <td></td>\n",
       "      <td>Level of access to piped water in 1994: 57% of t</td>\n",
       "      <td>75% of the urban population having access to to</td>\n",
       "      <td>BF-Ouaga Water Suply (FY01)</td>\n",
       "      <td>IND: Access to safe water in urban cities cove...</td>\n",
       "      <td>10.0</td>\n",
       "    </tr>\n",
       "    <tr>\n",
       "      <th>4</th>\n",
       "      <td>P000306</td>\n",
       "      <td>Population connected to the water distribution...</td>\n",
       "      <td></td>\n",
       "      <td>300,000 inhabitants</td>\n",
       "      <td>800,000 inhabitants.</td>\n",
       "      <td>BF-Ouaga Water Suply (FY01)</td>\n",
       "      <td>IND: Population connected to the water distrib...</td>\n",
       "      <td>9.0</td>\n",
       "    </tr>\n",
       "  </tbody>\n",
       "</table>\n",
       "</div>"
      ],
      "text/plain": [
       "   proj_id                                           ind_name uom_name  \\\n",
       "0  P000216  Number of scholarships for medical studies in ...            \n",
       "1  P000216  Number of hospitals with functioning managemen...            \n",
       "2  P000216            % children receiving polio vaccination.            \n",
       "3  P000306  Access to safe water in urban cities covered b...            \n",
       "4  P000306  Population connected to the water distribution...            \n",
       "\n",
       "                                  baseline_val_text  \\\n",
       "0                                                47   \n",
       "1                                                 0   \n",
       "2                                               73%   \n",
       "3  Level of access to piped water in 1994: 57% of t   \n",
       "4                               300,000 inhabitants   \n",
       "\n",
       "                                       tgt_val_text  \\\n",
       "0                                                60   \n",
       "1                                                11   \n",
       "2                                               85%   \n",
       "3  75% of the urban population having access to to    \n",
       "4                              800,000 inhabitants.   \n",
       "\n",
       "               proj_short_name  \\\n",
       "0    BI Health & Population II   \n",
       "1    BI Health & Population II   \n",
       "2    BI Health & Population II   \n",
       "3  BF-Ouaga Water Suply (FY01)   \n",
       "4  BF-Ouaga Water Suply (FY01)   \n",
       "\n",
       "                                       dli_comb_text  ind_name_length  \n",
       "0  IND: Number of scholarships for medical studie...             16.0  \n",
       "1  IND: Number of hospitals with functioning mana...              9.0  \n",
       "2  IND: % children receiving polio vaccination., ...              5.0  \n",
       "3  IND: Access to safe water in urban cities cove...             10.0  \n",
       "4  IND: Population connected to the water distrib...              9.0  "
      ]
     },
     "execution_count": 46,
     "metadata": {},
     "output_type": "execute_result"
    }
   ],
   "source": [
    "ind_df.head()"
   ]
  },
  {
   "cell_type": "code",
   "execution_count": 47,
   "id": "4aa53ae1",
   "metadata": {},
   "outputs": [],
   "source": [
    "proj_ind_df = ind_df.groupby(['proj_id'], as_index=False).agg(\n",
    "    num_dlis=('ind_name', 'count'),\n",
    "    combined_text=('dli_comb_text', lambda x: '<SEP>'.join(x)),\n",
    "    combined_length=('ind_name_length', 'sum')\n",
    ")"
   ]
  },
  {
   "cell_type": "code",
   "execution_count": 48,
   "id": "da5d2c2b",
   "metadata": {},
   "outputs": [
    {
     "data": {
      "text/html": [
       "<div>\n",
       "<style scoped>\n",
       "    .dataframe tbody tr th:only-of-type {\n",
       "        vertical-align: middle;\n",
       "    }\n",
       "\n",
       "    .dataframe tbody tr th {\n",
       "        vertical-align: top;\n",
       "    }\n",
       "\n",
       "    .dataframe thead th {\n",
       "        text-align: right;\n",
       "    }\n",
       "</style>\n",
       "<table border=\"1\" class=\"dataframe\">\n",
       "  <thead>\n",
       "    <tr style=\"text-align: right;\">\n",
       "      <th></th>\n",
       "      <th>proj_id</th>\n",
       "      <th>num_dlis</th>\n",
       "      <th>combined_text</th>\n",
       "      <th>combined_length</th>\n",
       "    </tr>\n",
       "  </thead>\n",
       "  <tbody>\n",
       "    <tr>\n",
       "      <th>0</th>\n",
       "      <td>P000216</td>\n",
       "      <td>3</td>\n",
       "      <td>IND: Number of scholarships for medical studie...</td>\n",
       "      <td>30.0</td>\n",
       "    </tr>\n",
       "    <tr>\n",
       "      <th>1</th>\n",
       "      <td>P000306</td>\n",
       "      <td>4</td>\n",
       "      <td>IND: Access to safe water in urban cities cove...</td>\n",
       "      <td>41.0</td>\n",
       "    </tr>\n",
       "    <tr>\n",
       "      <th>2</th>\n",
       "      <td>P000309</td>\n",
       "      <td>4</td>\n",
       "      <td>IND: Repetition ratio, BASE: N= 13.3% , TGT: N...</td>\n",
       "      <td>28.0</td>\n",
       "    </tr>\n",
       "    <tr>\n",
       "      <th>3</th>\n",
       "      <td>P000527</td>\n",
       "      <td>7</td>\n",
       "      <td>IND: Primary level Gross Enrollment Rate (GER)...</td>\n",
       "      <td>78.0</td>\n",
       "    </tr>\n",
       "    <tr>\n",
       "      <th>4</th>\n",
       "      <td>P000756</td>\n",
       "      <td>12</td>\n",
       "      <td>IND: Farmers adopting improved agricultural te...</td>\n",
       "      <td>80.0</td>\n",
       "    </tr>\n",
       "  </tbody>\n",
       "</table>\n",
       "</div>"
      ],
      "text/plain": [
       "   proj_id  num_dlis                                      combined_text  \\\n",
       "0  P000216         3  IND: Number of scholarships for medical studie...   \n",
       "1  P000306         4  IND: Access to safe water in urban cities cove...   \n",
       "2  P000309         4  IND: Repetition ratio, BASE: N= 13.3% , TGT: N...   \n",
       "3  P000527         7  IND: Primary level Gross Enrollment Rate (GER)...   \n",
       "4  P000756        12  IND: Farmers adopting improved agricultural te...   \n",
       "\n",
       "   combined_length  \n",
       "0             30.0  \n",
       "1             41.0  \n",
       "2             28.0  \n",
       "3             78.0  \n",
       "4             80.0  "
      ]
     },
     "execution_count": 48,
     "metadata": {},
     "output_type": "execute_result"
    }
   ],
   "source": [
    "proj_ind_df.head()"
   ]
  },
  {
   "cell_type": "code",
   "execution_count": null,
   "id": "05b5b041",
   "metadata": {},
   "outputs": [],
   "source": [
    "# encoded_sentences = model.encode(title_plus_pdo, show_progress_bar=True)\n",
    "# embeddings['title_plus_pdo_embed'] = encoded_sentences\n",
    "# save_embeds(embeddings)"
   ]
  },
  {
   "cell_type": "code",
   "execution_count": 62,
   "id": "7cbdfe96",
   "metadata": {},
   "outputs": [],
   "source": [
    "ind_proj_ids = proj_ind_df.proj_id.to_numpy()\n",
    "combined_text_arr = proj_ind_df.combined_text.to_numpy()"
   ]
  },
  {
   "cell_type": "code",
   "execution_count": 63,
   "id": "f9a7b1a0",
   "metadata": {},
   "outputs": [
    {
     "data": {
      "application/vnd.jupyter.widget-view+json": {
       "model_id": "c007f2f629604842a2a3048af5001498",
       "version_major": 2,
       "version_minor": 0
      },
      "text/plain": [
       "Batches:   0%|          | 0/82 [00:00<?, ?it/s]"
      ]
     },
     "metadata": {},
     "output_type": "display_data"
    }
   ],
   "source": [
    "encoded_combined_dlis = model.encode(combined_text_arr, show_progress_bar=True)"
   ]
  },
  {
   "cell_type": "code",
   "execution_count": 64,
   "id": "d3217809",
   "metadata": {},
   "outputs": [
    {
     "data": {
      "text/plain": [
       "(2611, 768)"
      ]
     },
     "execution_count": 64,
     "metadata": {},
     "output_type": "execute_result"
    }
   ],
   "source": [
    "encoded_combined_dlis.shape"
   ]
  },
  {
   "cell_type": "code",
   "execution_count": 65,
   "id": "669b933a",
   "metadata": {},
   "outputs": [
    {
     "data": {
      "text/plain": [
       "2611"
      ]
     },
     "execution_count": 65,
     "metadata": {},
     "output_type": "execute_result"
    }
   ],
   "source": [
    "len(proj_ind_df)"
   ]
  },
  {
   "cell_type": "code",
   "execution_count": 66,
   "id": "c80467ec",
   "metadata": {},
   "outputs": [
    {
     "data": {
      "text/plain": [
       "(21062, 768)"
      ]
     },
     "execution_count": 66,
     "metadata": {},
     "output_type": "execute_result"
    }
   ],
   "source": [
    "embeddings['title_plus_pdo_embed'].shape"
   ]
  },
  {
   "cell_type": "code",
   "execution_count": 56,
   "id": "6ee6daec",
   "metadata": {},
   "outputs": [],
   "source": [
    "proj = proj.merge(proj_ind_df, left_on='id', right_on='proj_id', how='left')"
   ]
  },
  {
   "cell_type": "code",
   "execution_count": 67,
   "id": "60df754f",
   "metadata": {},
   "outputs": [],
   "source": [
    "dli_embeddings = { \"project_ids\": ind_proj_ids, \"embedded_dlis\": encoded_combined_dlis }"
   ]
  },
  {
   "cell_type": "code",
   "execution_count": 68,
   "id": "ed0eb73d",
   "metadata": {},
   "outputs": [],
   "source": [
    "with open(\"./data/dli_embeddings.pkl\", \"wb\") as dli_out:\n",
    "    pickle.dump(dli_embeddings, dli_out, protocol=pickle.HIGHEST_PROTOCOL)"
   ]
  },
  {
   "cell_type": "code",
   "execution_count": 69,
   "id": "6153279c",
   "metadata": {},
   "outputs": [],
   "source": [
    "proj_ind_df.to_csv('./data/dli_metadata.csv', index=False)"
   ]
  },
  {
   "cell_type": "code",
   "execution_count": null,
   "id": "f088b95e",
   "metadata": {},
   "outputs": [],
   "source": []
  }
 ],
 "metadata": {
  "environment": {
   "name": "pytorch-gpu.1-9.m74",
   "type": "gcloud",
   "uri": "gcr.io/deeplearning-platform-release/pytorch-gpu.1-9:m74"
  },
  "kernelspec": {
   "display_name": "Python 3",
   "language": "python",
   "name": "python3"
  },
  "language_info": {
   "codemirror_mode": {
    "name": "ipython",
    "version": 3
   },
   "file_extension": ".py",
   "mimetype": "text/x-python",
   "name": "python",
   "nbconvert_exporter": "python",
   "pygments_lexer": "ipython3",
   "version": "3.7.10"
  }
 },
 "nbformat": 4,
 "nbformat_minor": 5
}
